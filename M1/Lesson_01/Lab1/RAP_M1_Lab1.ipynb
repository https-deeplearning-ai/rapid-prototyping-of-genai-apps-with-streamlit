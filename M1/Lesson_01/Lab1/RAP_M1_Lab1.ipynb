{
 "cells": [
  {
   "cell_type": "markdown",
   "id": "c4e2cae6",
   "metadata": {},
   "source": [
    "# GenAI MVP Lab\n",
    "In this lab, you'll practice using Generative AI as a co-creator to build a Minimum Viable Product (MVP) plan. You'll start with a basic prompt and improve it using structured principles, then work with an AI agent to scope and refine your app idea."
   ]
  },
  {
   "cell_type": "markdown",
   "id": "ba54a682",
   "metadata": {},
   "source": [
    "## Step 1: Define Your Prompt\n",
    "Use this template to help frame your request to the AI agent of your choice:\n",
    "\n",
    "```\n",
    "You are a [relevant role/expert].\n",
    "I need help with [specific task/problem].\n",
    "My situation is [relevant context/background].\n",
    "Please [specific request] in [desired format].\n",
    "```\n",
    "\n",
    "### Example:\n",
    "```\n",
    "You are a high school math teacher that wants to integrate technology into your classroom.\n",
    "I need help coming up with an app that will help students learn linear algebra.\n",
    "My students struggle with math anxiety and need visual and hands-on tools.\n",
    "Please help me brainstorm a prototype in bullet point format.\n",
    "```"
   ]
  },
  {
   "cell_type": "markdown",
   "id": "f6aa061a",
   "metadata": {},
   "source": [
    "## Step 2: Provide MVP Guidelines\n",
    "Share these principles to help the AI guide you more effectively:\n",
    "```\n",
    "- Define your end goal\n",
    "- Determine your target audience\n",
    "- Identify metrics for success\n",
    "- Prioritize must-have features for the MVP\n",
    "```"
   ]
  },
  {
   "cell_type": "markdown",
   "id": "6af48a8d",
   "metadata": {},
   "source": [
    "## Step 3: Brainstorm With the AI\n",
    "Let the AI ask you questions or propose features based on the guidelines. If it doesn't, prompt it with:\n",
    "```\n",
    "Walk through each principle with me to help me figure this out.\n",
    "```"
   ]
  },
  {
   "cell_type": "markdown",
   "id": "4683c40d",
   "metadata": {},
   "source": [
    "## Step 4: Explore Your Domain and Audience\n",
    "Use these questions to help narrow your focus:\n",
    "- What domain (e.g., fitness, learning) interests you?\n",
    "- What problems do you see regularly in this domain?\n",
    "- Who feels this pain point the most?\n",
    "- What would success look like?\n",
    "- What existing solutions frustrate people?\n",
    "- Where and how would they use your product?\n"
   ]
  },
  {
   "cell_type": "markdown",
   "id": "edd105f0",
   "metadata": {},
   "source": [
    "## Step 5: Define MVP Metrics\n",
    "Think about metrics like:\n",
    "- Behavioral: Daily/weekly users, feature usage\n",
    "- Business: Sign-ups, conversions, revenue\n",
    "- Qualitative: User feedback, support tickets\n",
    "- Leading Indicators: Early signs of success"
   ]
  },
  {
   "cell_type": "markdown",
   "id": "a756953a",
   "metadata": {},
   "source": [
    "## Step 6: Prioritize Features\n",
    "Ask the AI:\n",
    "```\n",
    "Help me identify the must-have features and separate them from the nice-to-haves.\n",
    "```"
   ]
  },
  {
   "cell_type": "markdown",
   "id": "cca2b1c2",
   "metadata": {},
   "source": [
    "## Final Reminder\n",
    "Generative AI is great for:\n",
    "- Brainstorming\n",
    "- Generating boilerplate code\n",
    "- Debugging\n",
    "- Planning features\n",
    "\n",
    "But you’ll need human judgment for:\n",
    "- Validating ideas\n",
    "- UX decisions\n",
    "- Business logic\n",
    "- Verifying AI output"
   ]
  }
 ],
 "metadata": {
  "kernelspec": {
   "display_name": "Python 3 (ipykernel)",
   "language": "python",
   "name": "python3"
  },
  "language_info": {
   "codemirror_mode": {
    "name": "ipython",
    "version": 3
   },
   "file_extension": ".py",
   "mimetype": "text/x-python",
   "name": "python",
   "nbconvert_exporter": "python",
   "pygments_lexer": "ipython3",
   "version": "3.12.7"
  }
 },
 "nbformat": 4,
 "nbformat_minor": 5
}
