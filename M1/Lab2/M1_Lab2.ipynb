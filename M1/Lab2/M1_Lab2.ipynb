{
 "cells": [
  {
   "cell_type": "markdown",
   "id": "bd8ba01d",
   "metadata": {},
   "source": [
    "# 🧪 Lab 2: Building a Streamlit App with GenAI, Data Handling, and Visualization"
   ]
  },
  {
   "cell_type": "markdown",
   "id": "1fe6ada9",
   "metadata": {},
   "source": [
    "📌 **Important:** This code needs to be copied into a streamlit app. It will not run properly in Jupyter Notebook.  \n",
    "\n",
    "Save the file as streamlit_app.py. You can then run it from the command line as:\n",
    "\n",
    "```bash\n",
    "streamlit run streamlit_app.py\n",
    "```\n",
    "This will launch your app in the browser."
   ]
  },
  {
   "cell_type": "markdown",
   "id": "7308d291",
   "metadata": {},
   "source": [
    "In this lab, you'll build a simple prototype using Streamlit and OpenAI's GPT model to classify product reviews and visualize the results."
   ]
  },
  {
   "cell_type": "markdown",
   "id": "c99be316",
   "metadata": {},
   "source": [
    "## Starting Code\n",
    "In a previous lesson, you built a working GenAI prototype that loads real data, applies a model, and visualizes the output interactively with filtering by product and date.\n",
    "\n",
    "Here is the code: "
   ]
  },
  {
   "cell_type": "code",
   "execution_count": null,
   "id": "47d9eb48",
   "metadata": {},
   "outputs": [],
   "source": [
    "import pandas as pd\n",
    "import streamlit as st\n",
    "\n",
    "df = pd.read_csv(\"customer_reviews.csv\")\n",
    "df.head()\n",
    "\n",
    "df.dropna(inplace=True)\n",
    "df[\"SUMMARY\"] = df[\"SUMMARY\"].astype(str)\n",
    "\n",
    "@st.cache_data\n",
    "def get_sentiment(text):\n",
    "    import openai\n",
    "    from dotenv import load_dotenv\n",
    "    import os\n",
    "    load_dotenv()\n",
    "    openai.api_key = os.getenv(\"OPENAI_API_KEY\")\n",
    "\n",
    "    response = openai.ChatCompletion.create(\n",
    "        model=\"gpt-3.5-turbo\",\n",
    "        messages=[{\"role\": \"user\", \"content\": f\"What’s the sentiment score of this review? {text}\"}]\n",
    "    )\n",
    "    return response.choices[0].message.content\n",
    "\n",
    "# if the button is clicked on, do sentiment analysis\n",
    "if st.button(\"Analyze Reviews\"):\n",
    "    df[\"Sentiment\"] = df[\"SUMMARY\"].apply(get_sentiment)\n",
    "    df\n",
    "\n",
    "# show the results as a bar chart\n",
    "st.bar_chart(df[\"Sentiment\"].value_counts())\n",
    "\n",
    "# add a drop-down menu to select products\n",
    "product = st.selectbox(\"Choose a product\", df[\"Product\"].unique())\n",
    "filtered = df[df[\"Product\"] == product]\n",
    "filtered"
   ]
  },
  {
   "cell_type": "markdown",
   "id": "e31ee8c6-0985-4bc8-b81f-fb1375ee1fcc",
   "metadata": {},
   "source": [
    "## Lab 2 Instructions: \n",
    "Take the prototype you just built and customize it independently to analyze a different kind of user input using the same GenAI integration.\n",
    "\n",
    "Instead of analyzing customer sentiment, imagine you’re building a prototype for a support ticket triage system. \n",
    "\n",
    "The goal is to classify support requests as either: \n",
    "<ul>\n",
    "\t<li>\"bug\" </li>\n",
    "\t<li>\"feature request\"</li> \n",
    "\t<li>\"question\" </li>\t\n",
    "</ul>\n",
    " \n",
    "✅ What You’ll Do:\n",
    "<ul>\n",
    "    <li>1.\tReplace the dataset with a file called support_tickets.csv, located in the M1/Lab2 folder.</li> \n",
    "\t<li>2.\tUpdate the GenAI prompt in your get_sentiment() function to instead ask:</li>\n",
    "    <li>    What type of support request is this: bug, feature request, or question?</li>    \n",
    "\t<li>3.\tRename the function to classify_ticket() for clarity. </li>\n",
    "\t<li>4.\tChange the output column name from \"Sentiment\" to \"Category\". </li>\n",
    "\t<li>5.\tUpdate your charts to show counts of each ticket category instead of sentiment. </li>\n",
    "\t<li>6.\t[Optional] Add a product filter if your data includes a product field. </li>\n",
    "    \n",
    "</ul>"
   ]
  },
  {
   "cell_type": "markdown",
   "id": "6e2f64f3-d699-4147-b983-ab37ff6a2e19",
   "metadata": {},
   "source": [
    "You can add a date range selector using the following function. Make sure to add it to the right place in your code: "
   ]
  },
  {
   "cell_type": "code",
   "execution_count": null,
   "id": "e6d35051-aeca-4782-a7fd-a32f1c16e7cf",
   "metadata": {},
   "outputs": [],
   "source": [
    "# Ensure your DATE column is in datetime format\n",
    "df[\"DATE\"] = pd.to_datetime(df[\"DATE\"])\n",
    "\n",
    "# create summary stats for the date range\n",
    "date_range = st.date_input(\n",
    "    \"Select dates\",\n",
    "    (df['DATE'].min().date(), df['DATE'].median().date()),\n",
    "    df['DATE'].min().date(),\n",
    "    df['DATE'].max().date()\n",
    ")"
   ]
  },
  {
   "cell_type": "markdown",
   "id": "e77b4a3d-7e6a-4f9c-8457-482dfef381be",
   "metadata": {},
   "source": [
    "Explanation:  \n",
    "\t•\tThis creates a two-part date picker.  \n",
    "\t•\tThe default selection spans from the earliest date in your dataset to the median date.  \n",
    "\t•\tThe widget limits selectable dates to your dataset’s min and max range—so the user can’t choose a date that doesn’t exist.  \n",
    "\n",
    "🗣️ “We’re using the st.date_input() widget to create a user-friendly way to select a custom date range. The dataset’s minimum and median dates serve as our default range."
   ]
  },
  {
   "cell_type": "code",
   "execution_count": null,
   "id": "b80598a9-650e-4ff0-8250-d8f41abe372d",
   "metadata": {},
   "outputs": [],
   "source": [
    "if len(date_range) == 2:\n",
    "    start_date = pd.to_datetime(date_range[0])\n",
    "    end_date = pd.to_datetime(date_range[1])\n",
    "\n",
    "    st.write(\"Selected dates:\", start_date.date(), \"to\", end_date.date())\n",
    "\n",
    "    df_filtered = df[(df[\"DATE\"] >= start_date) & (df[\"DATE\"] <= end_date)]\n",
    "    df_filtered"
   ]
  },
  {
   "cell_type": "markdown",
   "id": "1e6e9d4b-81c2-469d-aa3d-b492243696db",
   "metadata": {},
   "source": [
    "Explanation:  \n",
    "\t•\tWe check that the user actually picked two dates (start and end).  \n",
    "\t•\tThen we convert those to datetime format using Pandas.  \n",
    "\t•\tFinally, we filter the DataFrame and display the result.  \n",
    "\n",
    "🗣️ “Once a range is selected, we filter the DataFrame to only include rows where the ‘DATE’ column falls within that range. This helps users zoom in on specific time periods—like analyzing just the last 30 days, or comparing different quarters.”"
   ]
  },
  {
   "cell_type": "code",
   "execution_count": null,
   "id": "7ba61ed7-374a-4165-a737-42f927b6efd0",
   "metadata": {},
   "outputs": [],
   "source": []
  }
 ],
 "metadata": {
  "kernelspec": {
   "display_name": "Python 3 (ipykernel)",
   "language": "python",
   "name": "python3"
  },
  "language_info": {
   "codemirror_mode": {
    "name": "ipython",
    "version": 3
   },
   "file_extension": ".py",
   "mimetype": "text/x-python",
   "name": "python",
   "nbconvert_exporter": "python",
   "pygments_lexer": "ipython3",
   "version": "3.12.7"
  }
 },
 "nbformat": 4,
 "nbformat_minor": 5
}
