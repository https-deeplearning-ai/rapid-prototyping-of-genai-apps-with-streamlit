{
 "cells": [
  {
   "cell_type": "code",
   "execution_count": null,
   "id": "1e65c728-4af7-4390-9793-1ec4ed75c4f3",
   "metadata": {},
   "outputs": [],
   "source": []
  }
 ],
 "metadata": {
  "kernelspec": {
   "display_name": "",
   "name": ""
  },
  "language_info": {
   "name": ""
  }
 },
 "nbformat": 4,
 "nbformat_minor": 5
}
