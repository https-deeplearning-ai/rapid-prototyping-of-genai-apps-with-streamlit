{
 "cells": [
  {
   "cell_type": "code",
   "execution_count": null,
   "id": "60577b93",
   "metadata": {
    "vscode": {
     "languageId": "plaintext"
    }
   },
   "outputs": [],
   "source": [
    "import pandas as pd\n",
    "df = pd.read_csv(\"customer_reviews.csv\")"
   ]
  },
  {
   "cell_type": "code",
   "execution_count": null,
   "id": "bb756a92",
   "metadata": {
    "vscode": {
     "languageId": "plaintext"
    }
   },
   "outputs": [],
   "source": [
    "df"
   ]
  },
  {
   "cell_type": "code",
   "execution_count": null,
   "id": "48a8afcb",
   "metadata": {
    "vscode": {
     "languageId": "plaintext"
    }
   },
   "outputs": [],
   "source": [
    "from snowflake.snowpark.context import get_active_session\n",
    "\n",
    "session = get_active_session()"
   ]
  },
  {
   "cell_type": "code",
   "execution_count": null,
   "id": "e6c019e2",
   "metadata": {
    "vscode": {
     "languageId": "plaintext"
    }
   },
   "outputs": [],
   "source": [
    "from snowflake.snowpark.functions import col  # Optional: import for column functions\n",
    "\n",
    "# Convert the local Pandas DataFrame into a Snowflake DataFrame\n",
    "snow_df = session.create_dataframe(df)  # Translates Pandas into Snowflake-compatible format\n",
    "\n",
    "# Save the Snowflake DataFrame into a permanent table in Snowflake\n",
    "snow_df.write.save_as_table(\"customer_reviews_from_csv\", mode=\"overwrite\")\n",
    "# This will create a table named customer_reviews or overwrite it if it already exists"
   ]
  },
  {
   "cell_type": "code",
   "execution_count": null,
   "id": "278ed43a",
   "metadata": {
    "vscode": {
     "languageId": "plaintext"
    }
   },
   "outputs": [],
   "source": [
    "# Use the session to retrieve and display the contents of the new table\n",
    "session.table(\"customer_reviews_from_csv\").show()"
   ]
  }
 ],
 "metadata": {
  "language_info": {
   "name": "python"
  }
 },
 "nbformat": 4,
 "nbformat_minor": 5
}
