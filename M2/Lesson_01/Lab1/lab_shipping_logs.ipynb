{
 "cells": [
  {
   "cell_type": "markdown",
   "id": "85b9433a",
   "metadata": {},
   "source": [
    "# Lab: Ingesting and Analyzing Avalanche Shipping Logs"
   ]
  },
  {
   "cell_type": "markdown",
   "id": "77c5c610",
   "metadata": {},
   "source": [
    "**Objective:**  \n",
    "You’ll use Snowflake and Python to ingest a raw markdown file containing Avalanche shipping logs. Using this file you will parse and clean the data, and extract useful insights that can inform the next stage of your GenAI prototype."
   ]
  },
  {
   "cell_type": "markdown",
   "id": "d4b26733",
   "metadata": {},
   "source": [
    "**Story Context:**  \n",
    "You just got your hands on internal shipping logs from Avalanche's distribution warehouse. These logs contain important operational data — delivery errors, shipping times, product IDs, and destinations. But it’s all in a raw `.md` format.\n",
    "\n",
    "Your job is to:\n",
    "1. Upload the markdown file into Snowflake.\n",
    "2. Parse and structure it into a usable table.\n",
    "3. Clean and explore the data.\n",
    "4. Start identifying shipping trends or anomalies."
   ]
  },
  {
   "cell_type": "markdown",
   "id": "04dff99c",
   "metadata": {},
   "source": [
    "## ✅ Step 1: Upload the file to Snowflake Notebook"
   ]
  },
  {
   "cell_type": "code",
   "execution_count": null,
   "id": "285910c4",
   "metadata": {},
   "outputs": [],
   "source": [
    "# Load file into a variable\n",
    "with open(\"/files/shipping-logs.md\", \"r\") as file:\n",
    "    raw_text = file.read()\n",
    "\n",
    "# Show a preview\n",
    "print(raw_text[:1000])  # Preview first 1000 characters"
   ]
  },
  {
   "cell_type": "code",
   "execution_count": null,
   "id": "4ec529a4",
   "metadata": {},
   "outputs": [],
   "source": [
    "# Simple log pattern extraction (customize as needed)\n",
    "import re\n",
    "import pandas as pd\n",
    "\n",
    "log_entries = re.findall(r\"(?s)---(.*?)---\", raw_text)\n",
    "\n",
    "structured_logs = []\n",
    "\n",
    "for entry in log_entries:\n",
    "    lines = entry.strip().split('\\n')\n",
    "    record = {\n",
    "        \"timestamp\": lines[0].strip(),\n",
    "        \"location\": lines[1].strip(),\n",
    "        \"summary\": \" \".join(lines[2:]).strip()\n",
    "    }\n",
    "    structured_logs.append(record)\n",
    "\n",
    "df_logs = pd.DataFrame(structured_logs)\n",
    "df_logs.head()"
   ]
  },
  {
   "cell_type": "code",
   "execution_count": null,
   "id": "dd0f794a",
   "metadata": {},
   "outputs": [],
   "source": [
    "# Connect to Snowflake and write the data to a table\n",
    "from snowflake.snowpark.session import Session\n",
    "\n",
    "connection_params = {\n",
    "  \"account\": \"<your_account>\",\n",
    "  \"user\": \"<your_username>\",\n",
    "  \"password\": \"<your_password>\",\n",
    "  \"role\": \"ACCOUNTADMIN\",\n",
    "  \"warehouse\": \"COMPUTE_WH\",\n",
    "  \"database\": \"AVALANCHE_DB\",\n",
    "  \"schema\": \"AVALANCHE_SCHEMA\"\n",
    "}\n",
    "\n",
    "session = Session.builder.configs(connection_params).create()\n",
    "\n",
    "# Convert to Snowflake DataFrame\n",
    "session.write_pandas(df_logs, \"SHIPPING_LOGS\", auto_create_table=True, overwrite=True)"
   ]
  },
  {
   "cell_type": "code",
   "execution_count": null,
   "id": "17e6b80c",
   "metadata": {},
   "outputs": [],
   "source": [
    "# Run basic analysis\n",
    "from snowflake.snowpark.functions import col, length\n",
    "\n",
    "df = session.table(\"SHIPPING_LOGS\")\n",
    "\n",
    "# Find most common problem locations\n",
    "df.group_by('\"location\"').count().order_by(col(\"count\").desc()).show()\n",
    "\n",
    "# Long entries\n",
    "df.with_column(\"length\", length(col('\"summary\"'))).order_by(col(\"length\").desc()).limit(5).show()"
   ]
  },
  {
   "cell_type": "markdown",
   "id": "23fe6a94",
   "metadata": {},
   "source": [
    "## ✅ Challenge Extension (Optional)\n",
    "Try building a quick prototype in Streamlit that lets a user:\n",
    "- Search shipping logs by location or keyword\n",
    "- Display the top locations with shipping issues\n",
    "- Summarize long logs using the OpenAI API"
   ]
  }
 ],
 "metadata": {
  "kernelspec": {
   "display_name": "Python 3 (ipykernel)",
   "language": "python",
   "name": "python3"
  },
  "language_info": {
   "codemirror_mode": {
    "name": "ipython",
    "version": 3
   },
   "file_extension": ".py",
   "mimetype": "text/x-python",
   "name": "python",
   "nbconvert_exporter": "python",
   "pygments_lexer": "ipython3",
   "version": "3.12.7"
  }
 },
 "nbformat": 4,
 "nbformat_minor": 5
}
