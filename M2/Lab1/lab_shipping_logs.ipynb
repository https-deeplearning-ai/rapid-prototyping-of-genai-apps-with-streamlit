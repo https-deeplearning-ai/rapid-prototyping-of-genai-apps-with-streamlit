{
 "cells": [
  {
   "cell_type": "markdown",
   "id": "85b9433a",
   "metadata": {},
   "source": [
    "# Lab: Ingesting and Analyzing Avalanche Shipping Logs"
   ]
  },
  {
   "cell_type": "markdown",
   "id": "77c5c610",
   "metadata": {},
   "source": [
    "**Objective:**  \n",
    "You’ll use Snowflake and Python to ingest a raw markdown file containing Avalanche shipping logs. Using this file you will parse and clean the data, and extract useful insights that can inform the next stage of your GenAI prototype."
   ]
  },
  {
   "cell_type": "markdown",
   "id": "d4b26733",
   "metadata": {},
   "source": [
    "**Story Context:**  \n",
    "You just got your hands on internal shipping logs from Avalanche's distribution warehouse. These logs contain important operational data — delivery errors, shipping times, product IDs, and destinations. But it’s all in a raw `.md` format.\n",
    "\n",
    "Your job is to:\n",
    "1. Upload the markdown file into Snowflake.\n",
    "2. Parse and structure it into a usable table.\n",
    "3. Clean and explore the data.\n",
    "4. Start identifying shipping trends or anomalies."
   ]
  },
  {
   "cell_type": "markdown",
   "id": "04dff99c",
   "metadata": {},
   "source": [
    "## ✅ Step 1: Upload the file to Snowflake Notebook"
   ]
  },
  {
   "cell_type": "code",
   "execution_count": null,
   "id": "285910c4",
   "metadata": {},
   "outputs": [],
   "source": [
    "# Load file into a variable\n",
    "with open(\"shipping-logs.md\", \"r\") as file:\n",
    "    raw_text = file.read()\n",
    "\n",
    "# Show a preview\n",
    "print(raw_text[:1000])  # Preview first 1000 characters"
   ]
  },
  {
   "cell_type": "code",
   "execution_count": null,
   "id": "4ec529a4",
   "metadata": {},
   "outputs": [],
   "source": [
    "import re\n",
    "import pandas as pd\n",
    "\n",
    "# Regular expression pattern\n",
    "pattern = r'Order ID:\\s*(\\d+)\\s+Shipping Date:\\s*(\\d{4}-\\d{2}-\\d{2})\\s+Carrier:\\s*(.*?)\\s+Tracking Number:\\s*(\\d+)\\s+Latitude:\\s*([-\\d.]+)\\s+Longitude:\\s*([-\\d.]+)\\s+Status:\\s*(\\w+)'\n",
    "\n",
    "# parse using regex\n",
    "matches = re.findall(pattern, raw_text, re.DOTALL)\n",
    "\n",
    "# create dataframe from matches\n",
    "df = pd.DataFrame(matches, columns=[\"ORDER_ID\", \"SHIPPING_DATE\", \"CARRIER\", \"TRACKING_NUMBER\", \"LATITUDE\", \"LONGITUDE\", \"STATUS\"])\n",
    "\n",
    "# Convert columns to appropriate data types\n",
    "df = df.astype({\n",
    "    'ORDER_ID': 'int',\n",
    "    'SHIPPING_DATE': 'datetime64[ns]',\n",
    "    'TRACKING_NUMBER': 'str',\n",
    "    'LATITUDE': 'float',\n",
    "    'LONGITUDE': 'float',\n",
    "    'STATUS': 'str'\n",
    "})\n",
    "\n",
    "# Convert Shipping_Date to string explicitly for Snowflake compatibility\n",
    "df[\"SHIPPING_DATE\"] = df[\"SHIPPING_DATE\"].dt.strftime('%Y-%m-%d')\n",
    "\n",
    "# Display the resulting DataFrame\n",
    "df.head()"
   ]
  },
  {
   "cell_type": "code",
   "execution_count": null,
   "id": "dd0f794a",
   "metadata": {},
   "outputs": [],
   "source": [
    "from snowflake.snowpark.context import get_active_session\n",
    "\n",
    "session = get_active_session()\n",
    "\n",
    "# Convert to Snowflake DataFrame\n",
    "session.write_pandas(df, \"SHIPPING_LOGS\", auto_create_table=True, overwrite=True)"
   ]
  },
  {
   "cell_type": "code",
   "execution_count": null,
   "id": "17e6b80c",
   "metadata": {},
   "outputs": [],
   "source": [
    "# Run basic analysis\n",
    "from snowflake.snowpark.functions import col, length\n",
    "\n",
    "df_from_snowflake = session.table(\"SHIPPING_LOGS\")\n",
    "\n",
    "# Find most common problem locations\n",
    "df_from_snowflake.group_by('\"CARRIER\"').count().order_by(col(\"count\").desc()).show()"
   ]
  },
  {
   "cell_type": "markdown",
   "id": "23fe6a94",
   "metadata": {},
   "source": [
    "## ✅ Challenge Extension (Optional)\n",
    "Try building a quick prototype in Streamlit that lets a user:\n",
    "- Search shipping logs by location or keyword\n",
    "- Display the top locations with shipping issues\n",
    "- Summarize long logs using the OpenAI API"
   ]
  }
 ],
 "metadata": {
  "kernelspec": {
   "display_name": "Python 3 (ipykernel)",
   "language": "python",
   "name": "python3"
  },
  "language_info": {
   "codemirror_mode": {
    "name": "ipython",
    "version": 3
   },
   "file_extension": ".py",
   "mimetype": "text/x-python",
   "name": "python",
   "nbconvert_exporter": "python",
   "pygments_lexer": "ipython3",
   "version": "3.12.7"
  }
 },
 "nbformat": 4,
 "nbformat_minor": 5
}
