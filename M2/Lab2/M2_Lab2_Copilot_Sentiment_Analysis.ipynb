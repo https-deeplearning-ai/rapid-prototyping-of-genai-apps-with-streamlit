{
 "cells": [
  {
   "cell_type": "markdown",
   "id": "1bf202d7",
   "metadata": {},
   "source": [
    "# Lab: Exploring Sentiment with Snowflake Copilot\n",
    "\n",
    "In this lab, you'll use Snowflake Copilot to analyze sentiment in your Avalanche customer review dataset. You'll practice asking Copilot questions, generating SQL queries, and interpreting the results visually."
   ]
  },
  {
   "cell_type": "markdown",
   "id": "a350e778",
   "metadata": {},
   "source": [
    "## Learning Objectives\n",
    "\n",
    "By the end of this lab, you'll be able to:\n",
    "- Use Snowflake Copilot to generate SQL queries\n",
    "- Ask Copilot to explain and optimize queries\n",
    "- Calculate and visualize average sentiment scores\n",
    "- Interpret results to inform product-level insights"
   ]
  },
  {
   "cell_type": "markdown",
   "id": "570cb19d",
   "metadata": {},
   "source": [
    "## Step 1: Set Your Context\n",
    "\n",
    "On Snowflake, open a new **Snowflake Notebook** and connect to your Avalanche database and schema.\n",
    "\n",
    "1. **Navigate to `Projects → Notebooks`** in Snowsight (left sidebar).\n",
    "2. **Click the `+ Notebook`** button in the top-right corner.\n",
    "3. In the **\"Create Notebook\"** dialog:\n",
    "   - Pick a meaningful **name**, e.g., `Copilot Sentiment Lab`\n",
    "   - Choose the Avalanche **database**, and **schema** \n",
    "   - Use the dropdown labeled \"Warehouse\" to select a **query warehouse** - use WH  \n",
    "   - Select the **Python environment** — typically `\"Warehouse Runtime\"`  \n",
    "4. Click **Create**. Your notebook will open with code cells ready for **SQL or Python**.\n",
    "5. **Switch between cell types** as needed:\n",
    "   - Use the **dropdown** on each cell to toggle between `SQL` and `Python`."
   ]
  },
  {
   "cell_type": "markdown",
   "id": "1f47ffc2",
   "metadata": {},
   "source": [
    "## Step 2: Ask Copilot to Analyze Sentiment\n",
    "\n",
    "From the notebook, find the \"Ask Copilot\" button on the lower right hand of your screen to open Copilot and type:\n",
    "```\n",
    "Write a SQL query that computes the mean sentiment score by unique products from the customer reviews table.\n",
    "```\n",
    "\n",
    "Copilot should return a query that looks like this:"
   ]
  },
  {
   "cell_type": "code",
   "execution_count": null,
   "id": "b8c0b6ba",
   "metadata": {},
   "outputs": [],
   "source": [
    "SELECT product_id, AVG(sentiment_score) AS average_sentiment\n",
    "FROM customer_reviews\n",
    "GROUP BY product_id;"
   ]
  },
  {
   "cell_type": "markdown",
   "id": "7f262445",
   "metadata": {},
   "source": [
    "## Step 3: Run the Query\n",
    "\n",
    "Paste the query into a SQL cell in your notebook and run it.\n",
    "\n",
    "**Interpret the Results:**\n",
    "- A sentiment score close to `1` means highly positive reviews\n",
    "- Close to `-1` means negative reviews\n",
    "- Around `0` means neutral sentiment\n",
    "\n",
    "Use this to spot which products are performing well — and which might need attention."
   ]
  },
  {
   "cell_type": "markdown",
   "id": "1b35987e",
   "metadata": {},
   "source": [
    "## Step 4: Visualize with Snowsight\n",
    "\n",
    "1.In your Snowflake Notebook, create a new SQL cell  \n",
    "2. Run the following query to get average sentiment by product\n",
    "```\n",
    "SELECT \n",
    "  product_id, \n",
    "  AVG(sentiment_score) AS average_sentiment\n",
    "FROM clean_reviews\n",
    "GROUP BY product_id;\n",
    "```\n",
    "4. After running the cell, click the Chart icon below the result table.\n",
    "5.\tIn the chart options:  \n",
    "\t•\tSet X-axis to product_id  \n",
    "\t•\tSet Y-axis to average_sentiment  \n",
    "\t•\tChoose Bar Chart as the visualization type\n",
    "\n",
    "That’s it — you’ll get a quick visual summary of how customers feel about each product."
   ]
  },
  {
   "cell_type": "markdown",
   "id": "3a73054f",
   "metadata": {},
   "source": [
    "## Step 5: Try More Copilot Prompts\n",
    "\n",
    "Explore more capabilities by asking Copilot:\n",
    "- `Explain this SQL query in simple terms`\n",
    "- `How do I join two tables on product_id?`\n",
    "- `What filters can I use on this data?`\n",
    "\n",
    "The more you explore, the more you'll get out of it."
   ]
  },
  {
   "cell_type": "markdown",
   "id": "b9c129c8",
   "metadata": {},
   "source": [
    "## Wrap-Up\n",
    "\n",
    "Nice work! You’ve used Copilot to:\n",
    "- Write and understand SQL\n",
    "- Calculate average sentiment by product\n",
    "- Build a simple visualization in Snowsight\n",
    "\n",
    "This kind of rapid analysis is a game-changer when you're prototyping GenAI apps. You get clean insights fast — and can move straight into building features your users actually need."
   ]
  }
 ],
 "metadata": {
  "kernelspec": {
   "display_name": "Python 3 (ipykernel)",
   "language": "python",
   "name": "python3"
  },
  "language_info": {
   "codemirror_mode": {
    "name": "ipython",
    "version": 3
   },
   "file_extension": ".py",
   "mimetype": "text/x-python",
   "name": "python",
   "nbconvert_exporter": "python",
   "pygments_lexer": "ipython3",
   "version": "3.12.7"
  }
 },
 "nbformat": 4,
 "nbformat_minor": 5
}
