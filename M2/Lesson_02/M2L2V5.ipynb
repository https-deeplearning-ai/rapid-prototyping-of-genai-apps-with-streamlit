{
 "cells": [
  {
   "cell_type": "code",
   "execution_count": null,
   "id": "59baca36",
   "metadata": {
    "vscode": {
     "languageId": "plaintext"
    }
   },
   "outputs": [],
   "source": [
    "# Connect to Snowflake and write the data to a table\n",
    "from snowflake.snowpark.session import Session\n",
    "\n",
    "connection_params = {\n",
    "  \"account\": \"<your_account>\",\n",
    "  \"user\": \"<your_username>\",\n",
    "  \"password\": \"<your_password>\",\n",
    "  \"role\": \"ACCOUNTADMIN\",\n",
    "  \"warehouse\": \"COMPUTE_WH\",\n",
    "  \"database\": \"AVALANCHE_DB\",\n",
    "  \"schema\": \"AVALANCHE_SCHEMA\"\n",
    "}\n",
    "\n",
    "session = Session.builder.configs(connection_params).create()"
   ]
  },
  {
   "cell_type": "code",
   "execution_count": null,
   "metadata": {
    "vscode": {
     "languageId": "plaintext"
    }
   },
   "outputs": [],
   "source": [
    "query = \"\"\"\n",
    "SELECT \n",
    "    CUSTOMER_REVIEW,\n",
    "    SNOWFLAKE.CORTEX.SENTIMENT(CUSTOMER_REVIEW) as SENTIMENT_SCORE\n",
    "FROM \n",
    "    PARSED_REVIEWS\n",
    "\"\"\""
   ]
  },
  {
   "cell_type": "code",
   "execution_count": null,
   "metadata": {
    "vscode": {
     "languageId": "plaintext"
    }
   },
   "outputs": [],
   "source": [
    "df = session.sql(query).to_pandas()\n",
    "\n",
    "df.head()"
   ]
  },
  {
   "cell_type": "code",
   "execution_count": null,
   "metadata": {
    "vscode": {
     "languageId": "plaintext"
    }
   },
   "outputs": [],
   "source": [
    "import matplotlib.pyplot as plt\n",
    "\n",
    "# Assuming sentiment scores stored in column 'sentiment_score'\n",
    "plt.figure(figsize=(8, 6))\n",
    "plt.hist(df[\"SENTIMENT_SCORE\"], bins=20, color='skyblue', edgecolor='black')\n",
    "\n",
    "# Title and labels\n",
    "plt.title(\"Histogram of Sentiment Scores\")\n",
    "plt.xlabel(\"Sentiment Score\")\n",
    "plt.ylabel(\"Number of Reviews\")\n",
    "\n",
    "plt.grid(axis='y', alpha=0.7)\n",
    "plt.show()"
   ]
  }
 ],
 "metadata": {
  "language_info": {
   "name": "python"
  }
 },
 "nbformat": 4,
 "nbformat_minor": 5
}
