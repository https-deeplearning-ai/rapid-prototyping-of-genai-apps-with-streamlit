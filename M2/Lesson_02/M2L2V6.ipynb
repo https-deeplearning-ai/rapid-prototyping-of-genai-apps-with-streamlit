{
 "cells": [
  {
   "cell_type": "code",
   "execution_count": null,
   "id": "64e6a788",
   "metadata": {
    "vscode": {
     "languageId": "plaintext"
    }
   },
   "outputs": [],
   "source": [
    "# Connect to Snowflake and write the data to a table\n",
    "from snowflake.snowpark.session import Session\n",
    "\n",
    "connection_params = {\n",
    "  \"account\": \"<your_account>\",\n",
    "  \"user\": \"<your_username>\",\n",
    "  \"password\": \"<your_password>\",\n",
    "  \"role\": \"ACCOUNTADMIN\",\n",
    "  \"warehouse\": \"COMPUTE_WH\",\n",
    "  \"database\": \"AVALANCHE_DB\",\n",
    "  \"schema\": \"AVALANCHE_SCHEMA\"\n",
    "}\n",
    "\n",
    "session = Session.builder.configs(connection_params).create()\n",
    "\n",
    "query = \"\"\"\n",
    "SELECT\n",
    "    PRODUCT,\n",
    "    CUSTOMER_REVIEW,\n",
    "    SNOWFLAKE.CORTEX.SENTIMENT(CUSTOMER_REVIEW) as SENTIMENT_SCORE\n",
    "FROM \n",
    "    PARSED_REVIEWS\n",
    "\"\"\"\n",
    "\n",
    "df_reviews = session.sql(query).to_pandas()\n",
    "\n",
    "df_reviews.head()"
   ]
  },
  {
   "cell_type": "code",
   "execution_count": null,
   "metadata": {
    "vscode": {
     "languageId": "plaintext"
    }
   },
   "outputs": [],
   "source": [
    "import matplotlib.pyplot as plt\n",
    "\n",
    "product_sentiment = df_reviews.groupby(\"PRODUCT\")[\"SENTIMENT_SCORE\"].mean().sort_values()\n",
    "product_sentiment.plot(kind=\"barh\", title=\"Average Sentiment by Product\")\n",
    "plt.xlabel(\"Sentiment Score\")\n",
    "plt.tight_layout()\n",
    "plt.show()"
   ]
  },
  {
   "cell_type": "code",
   "execution_count": null,
   "metadata": {
    "vscode": {
     "languageId": "plaintext"
    }
   },
   "outputs": [],
   "source": [
    "query = \"\"\"\n",
    "SELECT \n",
    "    \"Shipping_Date\",\n",
    "    COUNT(*) AS SHIPMENT_COUNT\n",
    "FROM \n",
    "    SHIPPING_LOGS\n",
    "GROUP BY\n",
    "    \"Shipping_Date\"\n",
    "ORDER BY \n",
    "    \"Shipping_Date\"\n",
    "\"\"\"\n",
    "\n",
    "shipment_df = session.sql(query).to_pandas()\n",
    "\n",
    "shipment_df.head()"
   ]
  },
  {
   "cell_type": "code",
   "execution_count": null,
   "metadata": {
    "vscode": {
     "languageId": "plaintext"
    }
   },
   "outputs": [],
   "source": [
    "shipment_df.plot(x=\"Shipping_Date\", y=\"SHIPMENT_COUNT\", kind=\"line\", title=\"Shipments Per Day\")\n",
    "plt.ylabel(\"Number of Shipments\")\n",
    "plt.xticks(rotation=45)\n",
    "plt.tight_layout()\n",
    "plt.show()"
   ]
  },
  {
   "cell_type": "code",
   "execution_count": null,
   "metadata": {
    "vscode": {
     "languageId": "plaintext"
    }
   },
   "outputs": [],
   "source": [
    "low_volume_days = shipment_df[shipment_df[\"SHIPMENT_COUNT\"] < 5]\n",
    "print(\"Low-volume shipping days:\\n\", low_volume_days)"
   ]
  },
  {
   "cell_type": "code",
   "execution_count": null,
   "metadata": {
    "vscode": {
     "languageId": "plaintext"
    }
   },
   "outputs": [],
   "source": [
    "query = \"\"\"\n",
    "SELECT\n",
    "    *\n",
    "FROM \n",
    "    SHIPPING_LOGS\n",
    "\"\"\"\n",
    "\n",
    "df_shipping = session.sql(query).to_pandas()\n",
    "\n",
    "df_shipping.head()"
   ]
  },
  {
   "cell_type": "code",
   "execution_count": null,
   "id": "7ad09391",
   "metadata": {
    "vscode": {
     "languageId": "plaintext"
    }
   },
   "outputs": [],
   "source": [
    "carrier_counts = df_shipping.groupby(\"Carrier\")[\"Order_ID\"].count()\n",
    "carrier_counts.plot(kind=\"bar\", title=\"Total Shipments by Carrier\")\n",
    "plt.ylabel(\"Number of Shipments\")\n",
    "plt.tight_layout()\n",
    "plt.show()"
   ]
  }
 ],
 "metadata": {
  "language_info": {
   "name": "python"
  }
 },
 "nbformat": 4,
 "nbformat_minor": 5
}
