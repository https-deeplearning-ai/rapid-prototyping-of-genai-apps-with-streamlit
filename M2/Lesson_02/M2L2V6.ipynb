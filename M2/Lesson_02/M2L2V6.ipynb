{
 "cells": [
  {
   "cell_type": "code",
   "execution_count": null,
   "id": "64e6a788",
   "metadata": {
    "vscode": {
     "languageId": "plaintext"
    }
   },
   "outputs": [],
   "source": [
    "from snowflake.snowpark.context import get_active_session\n",
    "\n",
    "session = get_active_session()\n",
    "\n",
    "query = \"\"\"\n",
    "SELECT\n",
    "    *,\n",
    "    SNOWFLAKE.CORTEX.SENTIMENT(CUSTOMER_REVIEW) as SENTIMENT_SCORE\n",
    "FROM \n",
    "    PARSED_REVIEWS\n",
    "\"\"\"\n",
    "\n",
    "df_reviews = session.sql(query).to_pandas()\n",
    "\n",
    "df_reviews.head()"
   ]
  },
  {
   "cell_type": "code",
   "execution_count": null,
   "metadata": {
    "vscode": {
     "languageId": "plaintext"
    }
   },
   "outputs": [],
   "source": [
    "import matplotlib.pyplot as plt\n",
    "\n",
    "product_sentiment = df_reviews.groupby(\"PRODUCT\")[\"SENTIMENT_SCORE\"].mean().sort_values()\n",
    "product_sentiment.plot(kind=\"barh\", title=\"Average Sentiment by Product\")\n",
    "plt.xlabel(\"Sentiment Score\")\n",
    "plt.tight_layout()\n",
    "plt.show()"
   ]
  },
  {
   "cell_type": "code",
   "execution_count": null,
   "metadata": {
    "vscode": {
     "languageId": "plaintext"
    }
   },
   "outputs": [],
   "source": [
    "query = \"\"\"\n",
    "SELECT \n",
    "    SHIPPING_DATE,\n",
    "    COUNT(*) AS SHIPMENT_COUNT\n",
    "FROM \n",
    "    SHIPPING_LOGS\n",
    "GROUP BY\n",
    "    SHIPPING_DATE\n",
    "ORDER BY \n",
    "    SHIPPING_DATE\n",
    "\"\"\"\n",
    "\n",
    "shipment_df = session.sql(query).to_pandas()\n",
    "\n",
    "shipment_df.head()"
   ]
  },
  {
   "cell_type": "code",
   "execution_count": null,
   "metadata": {
    "vscode": {
     "languageId": "plaintext"
    }
   },
   "outputs": [],
   "source": [
    "shipment_df.plot(x=\"SHIPPING_DATE\", y=\"SHIPMENT_COUNT\", kind=\"line\", title=\"Shipments Per Day\")\n",
    "plt.ylabel(\"Number of Shipments\")\n",
    "plt.xticks(rotation=45)\n",
    "plt.tight_layout()\n",
    "plt.show()"
   ]
  },
  {
   "cell_type": "code",
   "execution_count": null,
   "metadata": {
    "vscode": {
     "languageId": "plaintext"
    }
   },
   "outputs": [],
   "source": [
    "low_volume_days = shipment_df[shipment_df[\"SHIPMENT_COUNT\"] < 5]\n",
    "print(\"Low-volume shipping days:\\n\", low_volume_days)"
   ]
  },
  {
   "cell_type": "code",
   "execution_count": null,
   "metadata": {
    "vscode": {
     "languageId": "plaintext"
    }
   },
   "outputs": [],
   "source": [
    "query = \"\"\"\n",
    "SELECT\n",
    "    *\n",
    "FROM \n",
    "    SHIPPING_LOGS\n",
    "\"\"\"\n",
    "\n",
    "df_shipping = session.sql(query).to_pandas()\n",
    "\n",
    "df_shipping.head()"
   ]
  },
  {
   "cell_type": "code",
   "execution_count": null,
   "id": "7ad09391",
   "metadata": {
    "vscode": {
     "languageId": "plaintext"
    }
   },
   "outputs": [],
   "source": [
    "carrier_counts = df_shipping.groupby(\"CARRIER\")[\"ORDER_ID\"].count()\n",
    "carrier_counts.plot(kind=\"bar\", title=\"Total Shipments by Carrier\")\n",
    "plt.ylabel(\"Number of Shipments\")\n",
    "plt.tight_layout()\n",
    "plt.show()"
   ]
  },
  {
   "cell_type": "code",
   "execution_count": null,
   "id": "64d0e51e",
   "metadata": {
    "vscode": {
     "languageId": "plaintext"
    }
   },
   "outputs": [],
   "source": [
    "combined_df = df_reviews.merge(df_shipping, on=\"ORDER_ID\", how=\"inner\")\n",
    "combined_df.head()"
   ]
  },
  {
   "cell_type": "code",
   "execution_count": null,
   "id": "2c2795b9",
   "metadata": {
    "vscode": {
     "languageId": "plaintext"
    }
   },
   "outputs": [],
   "source": [
    "# Save the merged DataFrame to a new table in Snowflake\n",
    "session.write_pandas(combined_df, \"COMBINED_REVIEWS_SHIPPING\", auto_create_table=True, overwrite=True)\n",
    "\n",
    "# Validate that the new table exists and looks correct\n",
    "session.table(\"COMBINED_REVIEWS_SHIPPING\").limit(5).show()"
   ]
  },
  {
   "cell_type": "code",
   "execution_count": null,
   "id": "f2b77f97",
   "metadata": {
    "vscode": {
     "languageId": "plaintext"
    }
   },
   "outputs": [],
   "source": []
  }
 ],
 "metadata": {
  "language_info": {
   "name": "python"
  }
 },
 "nbformat": 4,
 "nbformat_minor": 5
}
