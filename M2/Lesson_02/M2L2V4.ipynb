{
 "cells": [
  {
   "cell_type": "code",
   "execution_count": null,
   "id": "ec7c934c",
   "metadata": {
    "vscode": {
     "languageId": "plaintext"
    }
   },
   "outputs": [],
   "source": [
    "import streamlit as st\n",
    "from snowflake.snowpark.context import get_active_session\n",
    "import pandas as pd\n",
    "import matplotlib.pyplot as plt\n",
    "\n",
    "# Initialize the Streamlit app\n",
    "st.title(\"Avalanche Streamlit App\")\n",
    "\n",
    "# Get data from Snowflake\n",
    "session = get_active_session()\n",
    "query = \"\"\"\n",
    "SELECT\n",
    "    *,\n",
    "    SNOWFLAKE.CORTEX.SENTIMENT(REVIEW_TEXT) as SENTIMENT_SCORE\n",
    "FROM\n",
    "    CLEAN_REVIEWS\n",
    "\"\"\"\n",
    "df_reviews = session.sql(query).to_pandas()\n",
    "\n",
    "# Convert date columns to datetime\n",
    "df_reviews['REVIEW_DATE'] = pd.to_datetime(df_reviews['REVIEW_DATE'])\n",
    "df_reviews['SHIPPING_DATE'] = pd.to_datetime(df_reviews['SHIPPING_DATE'])\n",
    "\n",
    "# Visualization: Average Sentiment by Product\n",
    "st.subheader(\"Average Sentiment by Product\")\n",
    "product_sentiment = df_reviews.groupby(\"PRODUCT\")[\"SENTIMENT_SCORE\"].mean().sort_values()\n",
    "\n",
    "fig, ax = plt.subplots()\n",
    "product_sentiment.plot(kind=\"barh\", ax=ax, title=\"Average Sentiment by Product\")\n",
    "ax.set_xlabel(\"Sentiment Score\")\n",
    "plt.tight_layout()\n",
    "st.pyplot(fig)\n",
    "\n",
    "# Product filter on the main page\n",
    "st.subheader(\"Filter by Product\")\n",
    "products = df_reviews['PRODUCT'].unique()\n",
    "selected_products = st.multiselect(\n",
    "    \"Select Products to View:\",\n",
    "    options=products,\n",
    "    default=products  # Default to showing all products\n",
    ")\n",
    "\n",
    "# Filter data based on selected products\n",
    "filtered_data = df_reviews[df_reviews['PRODUCT'].isin(selected_products)]\n",
    "\n",
    "# Display the filtered data as a table\n",
    "st.subheader(\"Filtered Data Table\")\n",
    "st.dataframe(filtered_data)\n",
    "\n",
    "# Visualization: Sentiment Distribution for Selected Products\n",
    "st.subheader(\"Sentiment Distribution for Selected Products\")\n",
    "fig, ax = plt.subplots()\n",
    "filtered_data['SENTIMENT_SCORE'].hist(ax=ax, bins=20)\n",
    "ax.set_title(\"Distribution of Sentiment Scores\")\n",
    "ax.set_xlabel(\"Sentiment Score\")\n",
    "ax.set_ylabel(\"Frequency\")\n",
    "st.pyplot(fig)"
   ]
  }
 ],
 "metadata": {
  "language_info": {
   "name": "python"
  }
 },
 "nbformat": 4,
 "nbformat_minor": 5
}
