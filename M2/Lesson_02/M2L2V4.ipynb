{
 "cells": [
  {
   "cell_type": "code",
   "execution_count": null,
   "id": "ec7c934c",
   "metadata": {
    "vscode": {
     "languageId": "plaintext"
    }
   },
   "outputs": [],
   "source": [
    "# Connect to Snowflake and write the data to a table\n",
    "from snowflake.snowpark.session import Session\n",
    "\n",
    "connection_params = {\n",
    "  \"account\": \"<your_account>\",\n",
    "  \"user\": \"<your_username>\",\n",
    "  \"password\": \"<your_password>\",\n",
    "  \"role\": \"ACCOUNTADMIN\",\n",
    "  \"warehouse\": \"COMPUTE_WH\",\n",
    "  \"database\": \"AVALANCHE_DB\",\n",
    "  \"schema\": \"AVALANCHE_SCHEMA\"\n",
    "}\n",
    "\n",
    "session = Session.builder.configs(connection_params).create()"
   ]
  },
  {
   "cell_type": "code",
   "execution_count": null,
   "id": "841f387a",
   "metadata": {
    "vscode": {
     "languageId": "plaintext"
    }
   },
   "outputs": [],
   "source": [
    "# Load parsed reviews into a DataFrame\n",
    "df = session.table(\"parsed_reviews\")\n",
    "\n",
    "# Show a sample of the data\n",
    "df.show()"
   ]
  },
  {
   "cell_type": "code",
   "execution_count": null,
   "id": "b2a57031",
   "metadata": {
    "vscode": {
     "languageId": "plaintext"
    }
   },
   "outputs": [],
   "source": [
    "from snowflake.snowpark.functions import col, count\n",
    "shipment_counts = (\n",
    "    df.group_by(col(\"shipping_date\"))\n",
    "      .agg(count(\"order_id\").alias(\"shipment_count\"))\n",
    "      .sort(\"shipping_date\")\n",
    ")\n",
    "shipment_counts.show()"
   ]
  },
  {
   "cell_type": "code",
   "execution_count": null,
   "id": "5d8cd843",
   "metadata": {
    "vscode": {
     "languageId": "plaintext"
    }
   },
   "outputs": [],
   "source": [
    "import pandas as pd\n",
    "import matplotlib.pyplot as plt\n",
    "shipment_df = shipment_counts.to_pandas()\n",
    "shipment_df.plot(x=\"shipping_date\", y=\"shipment_count\", kind=\"line\")\n",
    "plt.title(\"Shipments Per Day\")\n",
    "plt.xlabel(\"Date\")\n",
    "plt.ylabel(\"Number of Shipments\")\n",
    "plt.xticks(rotation=45)\n",
    "plt.tight_layout()\n",
    "plt.show()"
   ]
  }
 ],
 "metadata": {
  "language_info": {
   "name": "python"
  }
 },
 "nbformat": 4,
 "nbformat_minor": 5
}
