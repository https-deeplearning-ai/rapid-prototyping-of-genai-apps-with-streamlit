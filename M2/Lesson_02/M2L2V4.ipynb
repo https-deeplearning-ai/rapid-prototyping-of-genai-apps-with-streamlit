{
 "cells": [
  {
   "cell_type": "code",
   "execution_count": null,
   "id": "ec7c934c",
   "metadata": {
    "vscode": {
     "languageId": "plaintext"
    }
   },
   "outputs": [],
   "source": [
    "from snowflake.snowpark.context import get_active_session\n",
    "\n",
    "session = get_active_session()"
   ]
  },
  {
   "cell_type": "code",
   "execution_count": null,
   "id": "841f387a",
   "metadata": {
    "vscode": {
     "languageId": "plaintext"
    }
   },
   "outputs": [],
   "source": [
    "# Load parsed reviews into a DataFrame\n",
    "df = session.table(\"shipping_logs\")\n",
    "\n",
    "# Show a sample of the data\n",
    "df.show()"
   ]
  },
  {
   "cell_type": "code",
   "execution_count": null,
   "id": "5b1026be",
   "metadata": {
    "vscode": {
     "languageId": "plaintext"
    }
   },
   "outputs": [],
   "source": [
    "from snowflake.snowpark.functions import col, count\n",
    "shipment_counts = (\n",
    "    df.group_by(col('\"Shipping_Date\"'))\n",
    "      .agg(count('\"Order_ID\"').alias('\"Shipment_Count\"'))\n",
    "      .sort('\"Shipping_Date\"')\n",
    ")\n",
    "shipment_counts.show()"
   ]
  },
  {
   "cell_type": "code",
   "execution_count": null,
   "id": "5d8cd843",
   "metadata": {
    "vscode": {
     "languageId": "plaintext"
    }
   },
   "outputs": [],
   "source": [
    "import pandas as pd\n",
    "import matplotlib.pyplot as plt\n",
    "shipment_df = shipment_counts.to_pandas()\n",
    "shipment_df.plot(x=\"Shipping_Date\", y=\"Shipment_Count\", kind=\"line\")\n",
    "plt.title(\"Shipments Per Day\")\n",
    "plt.xlabel(\"Date\")\n",
    "plt.ylabel(\"Number of Shipments\")\n",
    "plt.xticks(rotation=45)\n",
    "plt.tight_layout()\n",
    "plt.show()"
   ]
  }
 ],
 "metadata": {
  "language_info": {
   "name": "python"
  }
 },
 "nbformat": 4,
 "nbformat_minor": 5
}
