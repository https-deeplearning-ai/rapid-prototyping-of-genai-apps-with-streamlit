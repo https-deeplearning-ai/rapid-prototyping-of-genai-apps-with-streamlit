{
 "cells": [
  {
   "cell_type": "code",
   "execution_count": null,
   "id": "7eb45762",
   "metadata": {
    "vscode": {
     "languageId": "plaintext"
    }
   },
   "outputs": [],
   "source": [
    "-- Parse content from DOCX files\n",
    "WITH files AS (\n",
    "  SELECT \n",
    "    REPLACE(REGEXP_SUBSTR(file_url, '[^/]+$'), '%2e', '.') as filename\n",
    "  FROM DIRECTORY('@avalanche_db.avalanche_schema.avalanche_stage')\n",
    "  WHERE filename LIKE '%.docx'\n",
    ")\n",
    "SELECT \n",
    "  filename,\n",
    "  SNOWFLAKE.CORTEX.PARSE_DOCUMENT(\n",
    "    @avalanche_db.avalanche_schema.avalanche_stage,\n",
    "    filename,\n",
    "    {'mode': 'layout'}\n",
    "  ):content AS layout\n",
    "FROM files;"
   ]
  },
  {
   "cell_type": "code",
   "execution_count": null,
   "id": "f6b6005f",
   "metadata": {
    "vscode": {
     "languageId": "plaintext"
    }
   },
   "outputs": [],
   "source": [
    "-- Extract PRODUCT name, DATE, and CUSTOMER_REVIEW from the LAYOUT column\n",
    "SELECT\n",
    "    filename,\n",
    "    REGEXP_SUBSTR(layout, 'Product: (.*?) Date:', 1, 1, 'e') as product,\n",
    "    REGEXP_SUBSTR(layout, 'Date: (202[0-9]-[0-9]{2}-[0-9]{2})', 1, 1, 'e') as date,\n",
    "    CASE \n",
    "        WHEN POSITION('Customer Review' IN layout) > 0 THEN\n",
    "            SUBSTRING(layout, POSITION('Customer Review' IN layout) + LENGTH('Customer Review'))\n",
    "        ELSE NULL\n",
    "    END as customer_review\n",
    "FROM {{cell1}};"
   ]
  },
  {
   "cell_type": "code",
   "execution_count": null,
   "id": "ea95901e",
   "metadata": {
    "vscode": {
     "languageId": "plaintext"
    }
   },
   "outputs": [],
   "source": [
    "-- Create a table to store the parsed and structured document content\n",
    "CREATE OR REPLACE TABLE avalanche_db.avalanche_schema.parsed_reviews (\n",
    "    filename VARCHAR,\n",
    "    product VARCHAR,\n",
    "    review_date DATE,\n",
    "    customer_review TEXT\n",
    ");\n",
    "\n",
    "-- Insert the parsed and structured content into the table\n",
    "INSERT INTO avalanche_db.avalanche_schema.parsed_reviews (filename, product, review_date, customer_review)\n",
    "SELECT\n",
    "    filename,\n",
    "    product,\n",
    "    TO_DATE(date) as review_date,\n",
    "    customer_review\n",
    "FROM {{cell2}};  -- Assuming cell2 contains your successful extraction query"
   ]
  },
  {
   "cell_type": "code",
   "execution_count": null,
   "id": "af13165c",
   "metadata": {
    "vscode": {
     "languageId": "plaintext"
    }
   },
   "outputs": [],
   "source": [
    "SELECT * FROM AVALANCHE_DB.AVALANCHE_SCHEMA.PARSED_REVIEWS;"
   ]
  }
 ],
 "metadata": {
  "language_info": {
   "name": "python"
  }
 },
 "nbformat": 4,
 "nbformat_minor": 5
}
