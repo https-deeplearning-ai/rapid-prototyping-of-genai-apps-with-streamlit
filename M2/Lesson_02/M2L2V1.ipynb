{
 "cells": [
  {
   "cell_type": "code",
   "execution_count": null,
   "id": "7eb45762",
   "metadata": {
    "vscode": {
     "languageId": "plaintext"
    }
   },
   "outputs": [],
   "source": [
    "DESC TABLE CUSTOMER_REVIEWS;"
   ]
  },
  {
   "cell_type": "code",
   "execution_count": null,
   "id": "f6b6005f",
   "metadata": {
    "vscode": {
     "languageId": "plaintext"
    }
   },
   "outputs": [],
   "source": [
    "DESC TABLE SHIPPING_LOGS;"
   ]
  },
  {
   "cell_type": "code",
   "execution_count": null,
   "id": "ea95901e",
   "metadata": {
    "vscode": {
     "languageId": "plaintext"
    }
   },
   "outputs": [],
   "source": [
    "CREATE OR REPLACE TABLE merged_reviews AS\n",
    "SELECT \n",
    "  r.order_id,\n",
    "  r.filename,\n",
    "  r.product,\n",
    "  r.review_date,\n",
    "  r.review_text,\n",
    "  s.shipping_date,\n",
    "  s.carrier,\n",
    "  s.tracking_number,\n",
    "  s.latitude,\n",
    "  s.longitude,\n",
    "  s.status,\n",
    "  s.delivery_days,\n",
    "  s.late\n",
    "FROM \n",
    "  customer_reviews r\n",
    "JOIN \n",
    "  shipping_logs s\n",
    "ON \n",
    "  r.order_id = s.order_id;"
   ]
  },
  {
   "cell_type": "code",
   "execution_count": null,
   "id": "af13165c",
   "metadata": {
    "vscode": {
     "languageId": "plaintext"
    }
   },
   "outputs": [],
   "source": [
    "from snowflake.snowpark.context import get_active_session\n",
    "\n",
    "session = get_active_session()\n",
    "# Load parsed reviews into a DataFrame\n",
    "df = session.table(\"merged_reviews\")\n",
    "\n",
    "# Show a sample of the data\n",
    "df.show()"
   ]
  },
  {
   "cell_type": "code",
   "execution_count": null,
   "id": "abdec4dc",
   "metadata": {
    "vscode": {
     "languageId": "plaintext"
    }
   },
   "outputs": [],
   "source": [
    "from snowflake.snowpark.functions import col\n",
    "\n",
    "# Remove rows with missing or empty text\n",
    "df_cleaned = df.filter(\n",
    "    col(\"review_text\").is_not_null() & (col(\"review_text\") != \"\")\n",
    ")"
   ]
  },
  {
   "cell_type": "code",
   "execution_count": null,
   "id": "16866481",
   "metadata": {
    "vscode": {
     "languageId": "plaintext"
    }
   },
   "outputs": [],
   "source": [
    "from snowflake.snowpark.functions import lower, trim\n",
    "\n",
    "# Standardize the review text\n",
    "df_lowercase = df_cleaned.with_column(\"review_text\", trim(lower(col(\"review_text\"))))"
   ]
  },
  {
   "cell_type": "code",
   "execution_count": null,
   "id": "c3346a1d",
   "metadata": {
    "vscode": {
     "languageId": "plaintext"
    }
   },
   "outputs": [],
   "source": [
    "# Remove duplicate rows\n",
    "df_deduped = df_lowercase.drop_duplicates([\"order_id\", \"review_text\"])"
   ]
  },
  {
   "cell_type": "code",
   "execution_count": null,
   "id": "66e1e81b",
   "metadata": {
    "vscode": {
     "languageId": "plaintext"
    }
   },
   "outputs": [],
   "source": [
    "# Save cleaned data to a new table\n",
    "df_deduped.write.mode(\"overwrite\").save_as_table(\"clean_reviews\")"
   ]
  }
 ],
 "metadata": {
  "language_info": {
   "name": "python"
  }
 },
 "nbformat": 4,
 "nbformat_minor": 5
}
