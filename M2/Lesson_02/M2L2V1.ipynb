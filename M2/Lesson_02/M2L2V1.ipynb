{
 "cells": [
  {
   "cell_type": "code",
   "execution_count": null,
   "id": "7eb45762",
   "metadata": {
    "vscode": {
     "languageId": "plaintext"
    }
   },
   "outputs": [],
   "source": [
    "-- Parse content from DOCX files\n",
    "WITH files AS (\n",
    "  SELECT \n",
    "    REPLACE(REGEXP_SUBSTR(file_url, '[^/]+$'), '%2e', '.') as filename\n",
    "  FROM DIRECTORY('@avalanche_db.avalanche_schema.avalanche_stage')\n",
    "  WHERE filename LIKE '%.docx'\n",
    ")\n",
    "SELECT \n",
    "  filename,\n",
    "  SNOWFLAKE.CORTEX.PARSE_DOCUMENT(\n",
    "    @avalanche_db.avalanche_schema.avalanche_stage,\n",
    "    filename,\n",
    "    {'mode': 'layout'}\n",
    "  ):content AS content\n",
    "FROM files;"
   ]
  },
  {
   "cell_type": "code",
   "execution_count": null,
   "id": "f6b6005f",
   "metadata": {
    "vscode": {
     "languageId": "plaintext"
    }
   },
   "outputs": [],
   "source": [
    "-- Extract PRODUCT name, DATE, and CUSTOMER_REVIEW from the LAYOUT column\n",
    "SELECT\n",
    "    filename,\n",
    "    REGEXP_SUBSTR(content, 'Product: (.*?) Date:', 1, 1, 'e') as product,\n",
    "    REGEXP_SUBSTR(content, 'Date: (202[0-9]-[0-9]{2}-[0-9]{2})', 1, 1, 'e') as date,\n",
    "    CASE \n",
    "        WHEN POSITION('Customer Review' IN content) > 0 THEN\n",
    "            SUBSTRING(content, POSITION('Customer Review' IN content) + LENGTH('Customer Review'))\n",
    "        ELSE NULL\n",
    "    END as customer_review\n",
    "FROM {{cell1}};"
   ]
  },
  {
   "cell_type": "code",
   "execution_count": null,
   "id": "ea95901e",
   "metadata": {
    "vscode": {
     "languageId": "plaintext"
    }
   },
   "outputs": [],
   "source": [
    "-- Create a table to store the parsed and structured document content with order_id\n",
    "CREATE OR REPLACE TABLE avalanche_db.avalanche_schema.parsed_reviews (\n",
    "    filename VARCHAR,\n",
    "    order_id INTEGER,\n",
    "    product VARCHAR,\n",
    "    review_date DATE,\n",
    "    customer_review TEXT\n",
    ");\n",
    "\n",
    "-- Insert the parsed content, including order_id derived from filename\n",
    "INSERT INTO avalanche_db.avalanche_schema.parsed_reviews (filename, order_id, product, review_date, customer_review)\n",
    "SELECT\n",
    "    filename,\n",
    "    -- Extract numeric portion from filename, prefix it with '1', and convert it to integer\n",
    "    CAST(CONCAT('1', REGEXP_SUBSTR(filename, '\\\\d+')) AS INTEGER) AS order_id,\n",
    "    product,\n",
    "    TO_DATE(date) as review_date,\n",
    "    customer_review\n",
    "FROM {{cell2}};"
   ]
  },
  {
   "cell_type": "code",
   "execution_count": null,
   "id": "af13165c",
   "metadata": {
    "vscode": {
     "languageId": "plaintext"
    }
   },
   "outputs": [],
   "source": [
    "SELECT * FROM AVALANCHE_DB.AVALANCHE_SCHEMA.PARSED_REVIEWS;"
   ]
  }
 ],
 "metadata": {
  "language_info": {
   "name": "python"
  }
 },
 "nbformat": 4,
 "nbformat_minor": 5
}
