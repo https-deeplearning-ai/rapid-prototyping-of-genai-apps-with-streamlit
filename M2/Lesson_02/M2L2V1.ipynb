{
 "cells": [
  {
   "cell_type": "code",
   "execution_count": null,
   "id": "7eb45762",
   "metadata": {
    "vscode": {
     "languageId": "plaintext"
    }
   },
   "outputs": [],
   "source": [
    "CREATE OR REPLACE FILE FORMAT docx_format\n",
    "  TYPE = 'BINARY';"
   ]
  },
  {
   "cell_type": "code",
   "execution_count": null,
   "id": "f6b6005f",
   "metadata": {
    "vscode": {
     "languageId": "plaintext"
    }
   },
   "outputs": [],
   "source": [
    "SELECT *\n",
    "FROM TABLE(PARSE_DOCUMENT(\n",
    "    LOCATION => '@Avalanche_Stage',\n",
    "    FILE_FORMAT => 'docx_format'\n",
    "));"
   ]
  },
  {
   "cell_type": "code",
   "execution_count": null,
   "id": "ea95901e",
   "metadata": {
    "vscode": {
     "languageId": "plaintext"
    }
   },
   "outputs": [],
   "source": [
    "CREATE OR REPLACE TABLE parsed_reviews AS\n",
    "SELECT *\n",
    "FROM TABLE(PARSE_DOCUMENT(\n",
    "    LOCATION => '@Avalanche_Stage',\n",
    "    FILE_FORMAT => 'docx_format'\n",
    "));"
   ]
  },
  {
   "cell_type": "code",
   "execution_count": null,
   "id": "af13165c",
   "metadata": {
    "vscode": {
     "languageId": "plaintext"
    }
   },
   "outputs": [],
   "source": [
    "from docx import Document\n",
    "from snowflake.snowpark.session import Session\n",
    "import tempfile\n",
    "\n",
    "session = Session.builder.get_or_create()\n",
    "\n",
    "# List files from stage\n",
    "file_list = session.sql(\"LIST @Avalanche_Stage\").collect()\n",
    "\n",
    "data_rows = []\n",
    "\n",
    "for file in file_list:\n",
    "    file_name = file['name']\n",
    "    stage_path = f\"@Avalanche_Stage/{file_name}\"\n",
    "\n",
    "    with tempfile.NamedTemporaryFile(delete=False, suffix=\".docx\") as tmp_file:\n",
    "        session.file.get(stage_path, tmp_file.name)\n",
    "        doc = Document(tmp_file.name)\n",
    "        text = \"\\n\".join([p.text for p in doc.paragraphs])\n",
    "        data_rows.append((file_name, text))\n",
    "\n",
    "# Create Snowpark DataFrame and write to table\n",
    "df = session.create_dataframe(data_rows, schema=[\"filename\", \"review_text\"])\n",
    "df.write.mode(\"overwrite\").save_as_table(\"parsed_reviews\")"
   ]
  }
 ],
 "metadata": {
  "language_info": {
   "name": "python"
  }
 },
 "nbformat": 4,
 "nbformat_minor": 5
}
