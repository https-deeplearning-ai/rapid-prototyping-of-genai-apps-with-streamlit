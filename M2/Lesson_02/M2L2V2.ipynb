{
 "cells": [
  {
   "cell_type": "code",
   "execution_count": null,
   "id": "0bbd409a",
   "metadata": {
    "vscode": {
     "languageId": "plaintext"
    }
   },
   "outputs": [],
   "source": [
    "# Connect to Snowflake and write the data to a table\n",
    "from snowflake.snowpark.session import Session\n",
    "\n",
    "connection_params = {\n",
    "  \"account\": \"<your_account>\",\n",
    "  \"user\": \"<your_username>\",\n",
    "  \"password\": \"<your_password>\",\n",
    "  \"role\": \"ACCOUNTADMIN\",\n",
    "  \"warehouse\": \"COMPUTE_WH\",\n",
    "  \"database\": \"AVALANCHE_DB\",\n",
    "  \"schema\": \"AVALANCHE_SCHEMA\"\n",
    "}\n",
    "\n",
    "session = Session.builder.configs(connection_params).create()"
   ]
  },
  {
   "cell_type": "code",
   "execution_count": null,
   "metadata": {
    "vscode": {
     "languageId": "plaintext"
    }
   },
   "outputs": [],
   "source": [
    "# Load parsed reviews into a DataFrame\n",
    "df = session.table(\"parsed_reviews\")\n",
    "\n",
    "# Show a sample of the data\n",
    "df.show()"
   ]
  },
  {
   "cell_type": "code",
   "execution_count": null,
   "metadata": {
    "vscode": {
     "languageId": "plaintext"
    }
   },
   "outputs": [],
   "source": [
    "# View schema to understand column structure\n",
    "df.schema\n",
    "\n",
    "# Count the number of records\n",
    "df.count()"
   ]
  },
  {
   "cell_type": "code",
   "execution_count": null,
   "metadata": {
    "vscode": {
     "languageId": "plaintext"
    }
   },
   "outputs": [],
   "source": [
    "from snowflake.snowpark.functions import col\n",
    "\n",
    "# Remove rows with missing or empty text\n",
    "df_cleaned = df.filter(\n",
    "    col(\"review_text\").is_not_null() & (col(\"review_text\") != \"\")\n",
    ")"
   ]
  },
  {
   "cell_type": "code",
   "execution_count": null,
   "metadata": {
    "vscode": {
     "languageId": "plaintext"
    }
   },
   "outputs": [],
   "source": [
    "from snowflake.snowpark.functions import lower, trim\n",
    "\n",
    "# Standardize the review text\n",
    "df_lowercase = df_cleaned.with_column(\"review_text\", trim(lower(col(\"review_text\"))))"
   ]
  },
  {
   "cell_type": "code",
   "execution_count": null,
   "metadata": {
    "vscode": {
     "languageId": "plaintext"
    }
   },
   "outputs": [],
   "source": [
    "# Drop duplicate rows based on review_text\n",
    "df_standardized = df_lowercase.drop_duplicates([\"review_text\"])"
   ]
  },
  {
   "cell_type": "code",
   "execution_count": null,
   "id": "92507a61",
   "metadata": {
    "vscode": {
     "languageId": "plaintext"
    }
   },
   "outputs": [],
   "source": [
    "from snowflake.snowpark.functions import split, size\n",
    "# Add a new column with word count (splits text by spaces)\n",
    "df_standardized = df_standardized.with_column(\"word_count\", size(split(col(\"review_text\"), \" \")))\n",
    "\n",
    "# Show the review text and word count\n",
    "df_standardized.select(\"review_text\", \"word_count\").show()"
   ]
  },
  {
   "cell_type": "code",
   "execution_count": null,
   "id": "1512032d",
   "metadata": {
    "vscode": {
     "languageId": "plaintext"
    }
   },
   "outputs": [],
   "source": [
    "# Save cleaned data to a new table\n",
    "df_standardized.write.mode(\"overwrite\").save_as_table(\"clean_reviews\")"
   ]
  }
 ],
 "metadata": {
  "language_info": {
   "name": "python"
  }
 },
 "nbformat": 4,
 "nbformat_minor": 5
}
