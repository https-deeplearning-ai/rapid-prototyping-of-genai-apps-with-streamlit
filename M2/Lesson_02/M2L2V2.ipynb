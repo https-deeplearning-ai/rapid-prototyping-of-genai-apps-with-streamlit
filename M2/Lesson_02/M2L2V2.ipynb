{
 "cells": [
  {
   "cell_type": "code",
   "execution_count": null,
   "id": "0bbd409a",
   "metadata": {
    "vscode": {
     "languageId": "plaintext"
    }
   },
   "outputs": [],
   "source": [
    "# Connect to Snowflake and write the data to a table\n",
    "from snowflake.snowpark.session import Session\n",
    "\n",
    "connection_params = {\n",
    "  \"account\": \"<your_account>\",\n",
    "  \"user\": \"<your_username>\",\n",
    "  \"password\": \"<your_password>\",\n",
    "  \"role\": \"ACCOUNTADMIN\",\n",
    "  \"warehouse\": \"COMPUTE_WH\",\n",
    "  \"database\": \"AVALANCHE_DB\",\n",
    "  \"schema\": \"AVALANCHE_SCHEMA\"\n",
    "}\n",
    "\n",
    "session = Session.builder.configs(connection_params).create()"
   ]
  },
  {
   "cell_type": "code",
   "execution_count": null,
   "metadata": {
    "vscode": {
     "languageId": "plaintext"
    }
   },
   "outputs": [],
   "source": [
    "# Load parsed reviews into a DataFrame\n",
    "df = session.table(\"parsed_reviews\")\n",
    "\n",
    "# Show a sample of the data\n",
    "df.show()"
   ]
  },
  {
   "cell_type": "code",
   "execution_count": null,
   "metadata": {
    "vscode": {
     "languageId": "plaintext"
    }
   },
   "outputs": [],
   "source": [
    "# View schema to understand column structure\n",
    "df.schema\n",
    "\n",
    "# Count the number of records\n",
    "df.count()"
   ]
  },
  {
   "cell_type": "code",
   "execution_count": null,
   "metadata": {
    "vscode": {
     "languageId": "plaintext"
    }
   },
   "outputs": [],
   "source": [
    "from snowflake.snowpark.functions import col\n",
    "\n",
    "# Remove rows with missing or empty text\n",
    "df_cleaned = df.filter(\n",
    "    col(\"CUSTOMER_REVIEW\").is_not_null() & (col(\"CUSTOMER_REVIEW\") != \"\")\n",
    ")"
   ]
  },
  {
   "cell_type": "code",
   "execution_count": null,
   "metadata": {
    "vscode": {
     "languageId": "plaintext"
    }
   },
   "outputs": [],
   "source": [
    "from snowflake.snowpark.functions import lower, trim\n",
    "# Standardize the review text\n",
    "df_standardized = df_cleaned.with_column(\"CUSTOMER_REVIEW\", trim(lower(col(\"CUSTOMER_REVIEW\"))))"
   ]
  },
  {
   "cell_type": "code",
   "execution_count": null,
   "metadata": {
    "vscode": {
     "languageId": "plaintext"
    }
   },
   "outputs": [],
   "source": [
    "print(\"Column names:\", df_standardized.columns)"
   ]
  },
  {
   "cell_type": "code",
   "execution_count": null,
   "id": "92507a61",
   "metadata": {
    "vscode": {
     "languageId": "plaintext"
    }
   },
   "outputs": [],
   "source": [
    "from snowflake.snowpark.functions import split, col, lit, array_size\n",
    "\n",
    "# Correct way - wrap the delimiter in lit() as required by Snowpark\n",
    "df_with_word_count = df_standardized.with_column(\n",
    "    \"WORD_COUNT\", \n",
    "    array_size(split(col(\"CUSTOMER_REVIEW\"), lit(\" \")))\n",
    ")\n",
    "\n",
    "# Display the result\n",
    "df_with_word_count.select(\"CUSTOMER_REVIEW\", \"WORD_COUNT\").show()"
   ]
  }
 ],
 "metadata": {
  "language_info": {
   "name": "python"
  }
 },
 "nbformat": 4,
 "nbformat_minor": 5
}
