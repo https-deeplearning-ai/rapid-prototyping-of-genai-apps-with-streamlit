{
 "cells": [
  {
   "cell_type": "code",
   "execution_count": null,
   "id": "0bbd409a",
   "metadata": {
    "vscode": {
     "languageId": "plaintext"
    }
   },
   "outputs": [],
   "source": [
    "from snowflake.snowpark.context import get_active_session\n",
    "\n",
    "session = get_active_session()"
   ]
  },
  {
   "cell_type": "code",
   "execution_count": null,
   "metadata": {
    "vscode": {
     "languageId": "plaintext"
    }
   },
   "outputs": [],
   "source": [
    "query = \"\"\"\n",
    "SELECT \n",
    "    REVIEW_TEXT,\n",
    "    SNOWFLAKE.CORTEX.SENTIMENT(REVIEW_TEXT) as SENTIMENT_SCORE\n",
    "FROM \n",
    "    CLEAN_REVIEWS\n",
    "\"\"\"\n",
    "\n",
    "df = session.sql(query).to_pandas()\n",
    "\n",
    "df.head()"
   ]
  },
  {
   "cell_type": "code",
   "execution_count": null,
   "metadata": {
    "vscode": {
     "languageId": "plaintext"
    }
   },
   "outputs": [],
   "source": [
    "import matplotlib.pyplot as plt\n",
    "\n",
    "plt.figure(figsize=(8, 6))\n",
    "plt.hist(df[\"SENTIMENT_SCORE\"], bins=20, color='skyblue', edgecolor='black')\n",
    "\n",
    "plt.title(\"Histogram of Sentiment Scores\")\n",
    "plt.xlabel(\"Sentiment Score\")\n",
    "plt.ylabel(\"Number of Reviews\")\n",
    "\n",
    "plt.grid(axis='y', alpha=0.7)\n",
    "plt.show()"
   ]
  }
 ],
 "metadata": {
  "language_info": {
   "name": "python"
  }
 },
 "nbformat": 4,
 "nbformat_minor": 5
}
