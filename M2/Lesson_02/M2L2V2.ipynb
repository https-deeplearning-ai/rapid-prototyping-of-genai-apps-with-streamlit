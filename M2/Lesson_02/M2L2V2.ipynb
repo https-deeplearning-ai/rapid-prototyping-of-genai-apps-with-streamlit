{
 "cells": [
  {
   "cell_type": "code",
   "execution_count": null,
   "id": "0bbd409a",
   "metadata": {
    "vscode": {
     "languageId": "plaintext"
    }
   },
   "outputs": [],
   "source": [
    "from snowflake.snowpark.context import get_active_session\n",
    "\n",
    "session = get_active_session()"
   ]
  },
  {
   "cell_type": "code",
   "execution_count": null,
   "metadata": {
    "vscode": {
     "languageId": "plaintext"
    }
   },
   "outputs": [],
   "source": [
    "# Load parsed reviews into a DataFrame\n",
    "df = session.table(\"parsed_reviews\")\n",
    "\n",
    "# Show a sample of the data\n",
    "df.show()"
   ]
  },
  {
   "cell_type": "code",
   "execution_count": null,
   "metadata": {
    "vscode": {
     "languageId": "plaintext"
    }
   },
   "outputs": [],
   "source": [
    "# View schema to understand column structure\n",
    "df.schema\n",
    "\n",
    "# Count the number of records\n",
    "df.count()"
   ]
  },
  {
   "cell_type": "code",
   "execution_count": null,
   "metadata": {
    "vscode": {
     "languageId": "plaintext"
    }
   },
   "outputs": [],
   "source": [
    "from snowflake.snowpark.functions import col\n",
    "\n",
    "# Remove rows with missing or empty text\n",
    "df_cleaned = df.filter(\n",
    "    col(\"CUSTOMER_REVIEW\").is_not_null() & (col(\"CUSTOMER_REVIEW\") != \"\")\n",
    ")"
   ]
  },
  {
   "cell_type": "code",
   "execution_count": null,
   "metadata": {
    "vscode": {
     "languageId": "plaintext"
    }
   },
   "outputs": [],
   "source": [
    "from snowflake.snowpark.functions import lower, trim\n",
    "# Standardize the review text\n",
    "df_lowercase = df_cleaned.with_column(\"CUSTOMER_REVIEW\", trim(lower(col(\"CUSTOMER_REVIEW\"))))"
   ]
  },
  {
   "cell_type": "code",
   "execution_count": null,
   "id": "5b81a1b1",
   "metadata": {
    "vscode": {
     "languageId": "plaintext"
    }
   },
   "outputs": [],
   "source": [
    "df_deduped = df_lowercase.drop_duplicates([\"CUSTOMER_REVIEW\"])"
   ]
  },
  {
   "cell_type": "code",
   "execution_count": null,
   "id": "92507a61",
   "metadata": {
    "vscode": {
     "languageId": "plaintext"
    }
   },
   "outputs": [],
   "source": [
    "from snowflake.snowpark.functions import split, col, lit, array_size\n",
    "\n",
    "# Correct way - wrap the delimiter in lit() as required by Snowpark\n",
    "df_with_word_count = df_deduped.with_column(\n",
    "    \"WORD_COUNT\", \n",
    "    array_size(split(col(\"CUSTOMER_REVIEW\"), lit(\" \")))\n",
    ")\n",
    "\n",
    "# Display the result\n",
    "df_with_word_count.select(\"CUSTOMER_REVIEW\", \"WORD_COUNT\").show()"
   ]
  },
  {
   "cell_type": "code",
   "execution_count": null,
   "id": "c8611e80",
   "metadata": {
    "vscode": {
     "languageId": "plaintext"
    }
   },
   "outputs": [],
   "source": [
    "df_with_word_count.write.mode(\"overwrite\").save_as_table(\"clean_reviews\")"
   ]
  }
 ],
 "metadata": {
  "language_info": {
   "name": "python"
  }
 },
 "nbformat": 4,
 "nbformat_minor": 5
}
