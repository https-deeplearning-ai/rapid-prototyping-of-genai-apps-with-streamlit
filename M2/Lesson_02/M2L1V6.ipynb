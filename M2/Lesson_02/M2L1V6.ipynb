{
 "cells": [
  {
   "cell_type": "code",
   "execution_count": null,
   "id": "64e6a788",
   "metadata": {
    "vscode": {
     "languageId": "plaintext"
    }
   },
   "outputs": [],
   "source": [
    "product_sentiment = df_reviews.groupby(\"product\")[\"sentiment_score\"].mean().sort_values()\n",
    "product_sentiment.plot(kind=\"barh\", title=\"Average Sentiment by Product\")\n",
    "plt.xlabel(\"Sentiment Score\")\n",
    "plt.tight_layout()\n",
    "plt.show()"
   ]
  },
  {
   "cell_type": "code",
   "execution_count": null,
   "metadata": {
    "vscode": {
     "languageId": "plaintext"
    }
   },
   "outputs": [],
   "source": [
    "shipment_df = shipment_counts.to_pandas()\n",
    "shipment_df.plot(x=\"shipping_date\", y=\"shipment_count\", kind=\"line\", title=\"Shipments Per Day\")\n",
    "plt.ylabel(\"Number of Shipments\")\n",
    "plt.xticks(rotation=45)\n",
    "plt.tight_layout()\n",
    "plt.show()"
   ]
  },
  {
   "cell_type": "code",
   "execution_count": null,
   "metadata": {
    "vscode": {
     "languageId": "plaintext"
    }
   },
   "outputs": [],
   "source": [
    "low_volume_days = shipment_df[shipment_df[\"shipment_count\"] < 5]\n",
    "print(\"Low-volume shipping days:\\n\", low_volume_days)"
   ]
  },
  {
   "cell_type": "code",
   "execution_count": null,
   "metadata": {
    "vscode": {
     "languageId": "plaintext"
    }
   },
   "outputs": [],
   "source": [
    "carrier_counts = df_shipping.groupby(\"carrier\")[\"order_id\"].count()\n",
    "carrier_counts.plot(kind=\"bar\", title=\"Total Shipments by Carrier\")\n",
    "plt.ylabel(\"Number of Shipments\")\n",
    "plt.tight_layout()\n",
    "plt.show()"
   ]
  },
  {
   "cell_type": "code",
   "execution_count": null,
   "metadata": {
    "vscode": {
     "languageId": "plaintext"
    }
   },
   "outputs": [],
   "source": [
    "# Assume both dataframes are loaded: reviews_df and shipping_df\n",
    "combined_df = reviews_df.merge(shipping_df, on=\"order_id\", how=\"inner\")\n",
    "combined_df.head()"
   ]
  },
  {
   "cell_type": "code",
   "execution_count": null,
   "metadata": {
    "vscode": {
     "languageId": "plaintext"
    }
   },
   "outputs": [],
   "source": [
    "from snowflake.snowpark import Session\n",
    "from snowflake.snowpark.functions import col\n",
    "\n",
    "# Step 1: Define connection parameters\n",
    "connection_parameters = {\n",
    "    \"account\": \"your_account_id\",\n",
    "    \"user\": \"your_username\",\n",
    "    \"password\": \"your_password\",\n",
    "    \"role\": \"your_user_role\",\n",
    "    \"warehouse\": \"your_virtual_warehouse\",\n",
    "    \"database\": \"AVALANCHE_DB\",\n",
    "    \"schema\": \"AVALANCHE_SCHEMA\"\n",
    "}\n",
    "\n",
    "# Step 2: Create a session\n",
    "session = Session.builder.configs(connection_parameters).create()\n",
    "\n",
    "# Step 3: Save the merged DataFrame to a new table in Snowflake\n",
    "combined_df.write.save_as_table(\"COMBINED_REVIEWS_SHIPPING\", mode=\"overwrite\")\n",
    "\n",
    "# Step 4: Validate that the new table exists and looks correct\n",
    "session.table(\"COMBINED_REVIEWS_SHIPPING\").limit(5).show()"
   ]
  },
  {
   "cell_type": "code",
   "execution_count": null,
   "id": "7ad09391",
   "metadata": {
    "vscode": {
     "languageId": "plaintext"
    }
   },
   "outputs": [],
   "source": [
    "import matplotlib.pyplot as plt\n",
    "avg_sentiment = (    combined_df.groupby(\"status\")[\"sentiment_score\"]\n",
    "    .mean()\n",
    "    .sort_values()\n",
    ")\n",
    "\n",
    "avg_sentiment.plot(kind=\"barh\", title=\"Avg Sentiment by Shipping Status\")\n",
    "plt.xlabel(\"Sentiment Score\")\n",
    "plt.ylabel(\"Shipping Status\")\n",
    "plt.tight_layout()\n",
    "plt.show()"
   ]
  }
 ],
 "metadata": {
  "language_info": {
   "name": "python"
  }
 },
 "nbformat": 4,
 "nbformat_minor": 5
}
