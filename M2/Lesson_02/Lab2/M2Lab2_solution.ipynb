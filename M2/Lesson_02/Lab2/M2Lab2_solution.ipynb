{
 "cells": [
  {
   "cell_type": "code",
   "execution_count": null,
   "id": "2a1fba83",
   "metadata": {},
   "outputs": [],
   "source": [
    "import streamlit as st\n",
    "from snowflake.snowpark.context import get_active_session\n",
    "import pandas as pd\n",
    "import matplotlib.pyplot as plt\n",
    "from snowflake.cortex import complete\n",
    "\n",
    "# Connect to Snowflake and load data\n",
    "session = get_active_session()\n",
    "df = session.table('reviews_with_sentiment').to_pandas()\n",
    "\n",
    "# App title and sidebar filters\n",
    "st.title(\"Product Intelligence Dashboard\")\n",
    "products = df['PRODUCT'].unique()\n",
    "selected_products = st.sidebar.multiselect(\"Select Products:\", options=products, default=products)\n",
    "filtered_df = df[df['PRODUCT'].isin(selected_products)]\n",
    "\n",
    "# Data preview\n",
    "st.subheader(\"Data Preview\")\n",
    "st.dataframe(filtered_df.head())\n",
    "\n",
    "# Visualization: Average Sentiment by Region\n",
    "st.subheader(\"Average Sentiment by Region\")\n",
    "region_sentiment = filtered_df.groupby(\"REGION\")['SENTIMENT_SCORE'].mean().sort_values()\n",
    "fig, ax = plt.subplots()\n",
    "region_sentiment.plot(kind=\"barh\", ax=ax, title=\"Average Sentiment by Region\")\n",
    "ax.set_xlabel(\"Sentiment Score\")\n",
    "st.pyplot(fig)\n",
    "\n",
    "# Highlight Delivery Issues\n",
    "st.subheader(\"Delivery Issues by Region and Product\")\n",
    "grouped_issues = filtered_df.groupby(['REGION', 'PRODUCT'])[['STATUS', 'SENTIMENT_SCORE']].first().reset_index()\n",
    "st.dataframe(grouped_issues)\n",
    "\n",
    "# Chatbot assistant\n",
    "st.subheader(\"Ask Questions About Your Data\")\n",
    "user_question = st.text_input(\"Enter your question here:\")\n",
    "df_string = df.to_string(index=False)\n",
    "if user_question:\n",
    "    response = complete(model=\"claude-3-5-sonnet\", prompt=f\"Answer this question using the dataset: {user_question} <context>{df_string}</context>\", session=session)\n",
    "    st.write(response)"
   ]
  }
 ],
 "metadata": {
  "language_info": {
   "name": "python"
  }
 },
 "nbformat": 4,
 "nbformat_minor": 5
}
