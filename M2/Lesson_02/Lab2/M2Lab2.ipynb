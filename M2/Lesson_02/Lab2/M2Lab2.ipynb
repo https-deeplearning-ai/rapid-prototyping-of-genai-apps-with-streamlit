{
 "cells": [
  {
   "cell_type": "markdown",
   "id": "d63ee5ed",
   "metadata": {},
   "source": [
    "# Lab Instructions: Build a Product Intelligence Dashboard with GenAI\n",
    "\n",
    "Welcome to your final lab for Module 2! In this lab, you'll build a Product Intelligence Dashboard for Avalanche’s product team. Your dashboard will help users:\n",
    "- Explore customer sentiment across time and regions\n",
    "- Visualize trends in shipping delays and delivery performance\n",
    "- Ask natural language questions about product issues and customer feedback\n",
    "\n",
    "You'll use GenAI to help you at every step. Follow the instructions and prompt ideas below to build your dashboard."
   ]
  },
  {
   "cell_type": "markdown",
   "id": "f0721fb0",
   "metadata": {},
   "source": [
    "## Step 1: Connect to Snowflake and Load Data\n",
    "\n",
    "Start by connecting to Snowflake and loading the combined customer reviews and shipping log table (`combined_reviews_shipping`).\n",
    "\n",
    "**GenAI Prompt Idea:**\n",
    "- \"Write Python code to connect to Snowflake and load the combined_reviews_shipping table into a Pandas DataFrame.\"\n",
    "\n",
    "**Code Snippet:**"
   ]
  },
  {
   "cell_type": "code",
   "execution_count": null,
   "id": "2dad9836",
   "metadata": {},
   "outputs": [],
   "source": [
    "import pandas as pd\n",
    "from snowflake.snowpark.context import get_active_session\n",
    "\n",
    "session = get_active_session()\n",
    "df = session.table('combined_reviews_shipping').to_pandas()\n",
    "df.head()"
   ]
  },
  {
   "cell_type": "markdown",
   "id": "134e470b",
   "metadata": {},
   "source": [
    "## Step 2: Create a Streamlit App with Sidebar Filters\n",
    "\n",
    "Start a new Streamlit app and add a sidebar with product filters and a data preview.\n",
    "\n",
    "**GenAI Prompt Idea:**\n",
    "- \"Create a basic Streamlit app that loads my dataset and includes a sidebar with product filters.\"\n",
    "\n",
    "**Code Snippet:**"
   ]
  },
  {
   "cell_type": "code",
   "execution_count": null,
   "id": "3dd9d5a4",
   "metadata": {},
   "outputs": [],
   "source": [
    "import streamlit as st\n",
    "\n",
    "st.title(\"Product Intelligence Dashboard\")\n",
    "products = df['PRODUCT'].unique()\n",
    "selected_products = st.sidebar.multiselect(\"Select Products:\", options=products, default=products)\n",
    "filtered_df = df[df['PRODUCT'].isin(selected_products)]\n",
    "st.dataframe(filtered_df.head())"
   ]
  },
  {
   "cell_type": "markdown",
   "id": "0698e839",
   "metadata": {},
   "source": [
    "## Step 3: Visualize Sentiment by Region\n",
    "\n",
    "Add a graph to visualize average sentiment score by region.\n",
    "\n",
    "**GenAI Prompt Idea:**\n",
    "- \"Plot average sentiment score by region using matplotlib and Streamlit.\"\n",
    "\n",
    "**Code Snippet:**"
   ]
  },
  {
   "cell_type": "code",
   "execution_count": null,
   "id": "1afda532",
   "metadata": {},
   "outputs": [],
   "source": [
    "# Don't forget to add matplotlib to your packages\n",
    "import matplotlib.pyplot as plt\n",
    "st.subheader(\"Average Sentiment by Region\")\n",
    "region_sentiment = filtered_df.groupby(\"REGION\")['SENTIMENT_SCORE'].mean().sort_values()\n",
    "fig, ax = plt.subplots()\n",
    "region_sentiment.plot(kind=\"barh\", ax=ax, title=\"Average Sentiment by Region\")\n",
    "ax.set_xlabel(\"Sentiment Score\")\n",
    "st.pyplot(fig)"
   ]
  },
  {
   "cell_type": "markdown",
   "id": "aafc2236",
   "metadata": {},
   "source": [
    "## Step 4: Highlight Delivery Issues\n",
    "\n",
    "Create a table showing product issues by geography, to find out sentiment per product given delivery status.\n",
    "\n",
    "**GenAI Prompt Idea:**\n",
    "- \"Show a table grouped by region and product_id.\"\n",
    "\n",
    "**Code Snippet:**"
   ]
  },
  {
   "cell_type": "code",
   "execution_count": null,
   "id": "b71d392f",
   "metadata": {},
   "outputs": [],
   "source": [
    "st.subheader(\"Delivery Issues by Region and Product\")\n",
    "grouped_issues = filtered_df.groupby(['REGION', 'PRODUCT'])[['STATUS', 'SENTIMENT_SCORE']].first().reset_index()\n",
    "st.dataframe(grouped_issues)"
   ]
  },
  {
   "cell_type": "markdown",
   "id": "bee94514",
   "metadata": {},
   "source": [
    "## Step 5: Add a Custom LLM-Powered Chatbot\n",
    "\n",
    "Let users ask natural language questions about product issues and customer feedback using Cortex.\n",
    "\n",
    "**GenAI Prompt Ideas:**\n",
    "- \"Add a chatbot to my Streamlit app using Cortex complete to answer questions based on the combined_reviews_shipping table.\"\n",
    "- Example questions:\n",
    "    - \"What are customers in Canada complaining about the most?\"\n",
    "    - \"Which products had delays in June?\"\n",
    "\n",
    "**Code Snippet:**"
   ]
  },
  {
   "cell_type": "code",
   "execution_count": null,
   "id": "a58c7070",
   "metadata": {},
   "outputs": [],
   "source": [
    "# Don't forget to add snowflake-ml-python to your packages\n",
    "from snowflake.cortex import complete\n",
    "\n",
    "st.subheader(\"Ask Questions About Your Data\")\n",
    "user_question = st.text_input(\"Enter your question here:\")\n",
    "df_string = df.to_string(index=False)\n",
    "if user_question:\n",
    "    response = complete(model=\"claude-3-5-sonnet\", prompt=f\"Answer this question using the dataset: {user_question} <context>{df_string}</context>\", session=session)\n",
    "    st.write(response)"
   ]
  },
  {
   "cell_type": "markdown",
   "id": "a034bde0",
   "metadata": {},
   "source": [
    "## Step 6: Deploy or Share Your App\n",
    "\n",
    "Once your dashboard is ready, deploy or share it in Snowflake.\n",
    "\n",
    "**GenAI Prompt Idea:**\n",
    "- \"How do I deploy this Streamlit app in Snowflake?\"\n",
    "\n",
    "Follow GenAI’s steps to share the app inside Snowsight or export it for use outside Snowflake."
   ]
  },
  {
   "cell_type": "markdown",
   "id": "27bf7f3c",
   "metadata": {},
   "source": [
    "## Tips for Success\n",
    "- Use GenAI for every step — from creating the app’s infrastructure to debugging visualizations.\n",
    "- Keep your app simple and focused. You don’t need to include every feature—just show a strong MVP.\n",
    "- Add comments to your code so your future self (or future reviewers) can understand your logic.\n",
    "\n",
    "Good luck! Once you’ve finished, you’ll have a GenAI-powered dashboard that combines real business data with interactive insights and LLM-powered exploration."
   ]
  }
 ],
 "metadata": {
  "language_info": {
   "name": "python"
  }
 },
 "nbformat": 4,
 "nbformat_minor": 5
}
